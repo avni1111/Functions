{
  "nbformat": 4,
  "nbformat_minor": 0,
  "metadata": {
    "colab": {
      "provenance": []
    },
    "kernelspec": {
      "name": "python3",
      "display_name": "Python 3"
    },
    "language_info": {
      "name": "python"
    }
  },
  "cells": [
    {
      "cell_type": "markdown",
      "source": [
        "# **ASSIGNMENT 3** FUNCTION"
      ],
      "metadata": {
        "id": "R3mqsRvCd-r5"
      }
    },
    {
      "cell_type": "code",
      "source": [],
      "metadata": {
        "id": "RRdpMTgsxNn1"
      },
      "execution_count": null,
      "outputs": []
    },
    {
      "cell_type": "markdown",
      "source": [
        " 1. What is the difference between a function and a method in Python?\n",
        " -Function:\n",
        "            A function is a block of code that performs a specific task and is defined independently of any class. It can be called directly by its name.\n",
        "Method:\n",
        "            A method is also a block of code that performs a specific task, but it is associated with an object (an instance of a class). It is called on an object using the dot notation (e.g., object.method()).\n",
        "\n",
        "\n",
        "2.  Explain the concept of function arguments and parameters in Python.\n",
        "\n",
        "-   In Python, functions can accept inputs known as arguments. When defining a function, placeholders for these inputs are called parameters. When the function is called, the actual values passed in are the arguments.\n",
        "\n",
        "    def add_numbers(a, b): # a and b are parameters\n",
        "     sum = a + b\n",
        "    return sum\n",
        "\n",
        "    result = add_numbers(5, 3) # 5 and 3 are arguments\n",
        "    print(result) # Output: 8\n",
        "\n",
        "3.  What are the different ways to define and call a function in Python?\n",
        "-   In Python, functions can be defined and called in several ways:\n",
        "   Standard Function Definition\n",
        "  This is the most common way to define a function, using the def keyword, followed by the function name, parentheses for arguments, and a colon. The function body is indented.\n",
        "\n",
        "\n",
        "def greet(name):\n",
        "    \"\"\"This function greets the person passed in as a parameter.\"\"\"\n",
        "    print(\"Hello, \" + name + \"!\")\n",
        "\n",
        "greet(\"World\") # Calling the function\n",
        "\n",
        "4.  What is the purpose of the `return` statement in a Python function?\n",
        "-   The return statement in a Python function serves to terminate the     function's execution and optionally provide a value back to the caller. When a return statement is encountered, the function immediately stops running, and the specified value, if any, is passed back as the result of the function call. If no value is explicitly specified, it implicitly returns None. The return statement enables functions to produce output that can be utilized in other parts of the program, facilitating modularity and code reusability.\n",
        "\n",
        "def add(x, y):\n",
        "    return x + y\n",
        "\n",
        "result = add(5, 3)\n",
        "print(result) # Output: 8\n",
        "\n",
        "5.  What are iterators in Python and how do they differ from iterables?\n",
        "-   An iterator is an object that contains a countable number of values. An iterator is an object that can be iterated upon, meaning that you can traverse through all the values. Technically, in Python, an iterator is an object which implements the iterator protocol, which consist of the methods __iter__() and __next__() .\n",
        "\n",
        "  Iterables are objects that can be looped over, while iterators are objects that provide a mechanism for traversing that loop. Every iterator is an iterable, but not every iterable is an iterator.\n",
        "\n",
        "6.  Explain the concept of generators in Python and how they are defined.\n",
        "-   A generator function is a special type of function that returns an iterator object. Instead of using return to send back a single value, generator functions use yield to produce a series of results over time. This allows the function to generate values and pause its execution after each yield, maintaining its state between iterations.\n",
        "\n",
        "Basic Code Example:\n",
        "1.def fun(max):\n",
        "2.cnt = 1\n",
        "3.while cnt <= max:\n",
        "4. yield cnt\n",
        "5. cnt += 1\n",
        "6\n",
        "​\n",
        "7.ctr = fun(5)\n",
        "8.for n in ctr:\n",
        "9. print(n)\n",
        "\n",
        "7. What are the advantages of using generators over regular functions?\n",
        "- Generators offer several advantages over regular functions, primarily related to memory efficiency and lazy evaluation. Unlike regular functions that return a complete result set, generators produce values one at a time, allowing for efficient handling of large datasets or infinite sequences without exhausting memory. This \"lazy evaluation\" means processing only the data needed at the moment, and resuming from where the generator left off when called again.\n",
        "\n",
        "1. Memory Efficiency\n",
        "2. Lazy Evaluation\n",
        "3. Easy Implementation\n",
        "4. Representing Infinite Streams\n",
        "5. Resource Pipelining\n",
        "\n",
        "8. What is a lambda function in Python and when is it typically used?\n",
        "-  A lambda function, also known as an anonymous function, is a concise way to define a function within a single line. It's primarily used for short, simple operations where a full function definition using def would be overly verbose.\n",
        "\n",
        "Higher-order functions:\n",
        "Lambda functions are frequently used as arguments to higher-order functions like map(), filter(), and sorted().\n",
        "\n",
        "map(): Applies a function to all items in an iterable.\n",
        "\n",
        "filter(): Filters an iterable based on a condition.\n",
        "\n",
        "sorted(): Sorts a list based on a key (often a lambda function).\n",
        "\n",
        "\n",
        "\n",
        "\n",
        "-\n"
      ],
      "metadata": {
        "id": "wcjFoeIUeOFp"
      }
    },
    {
      "cell_type": "markdown",
      "source": [
        "9.  Explain the purpose and usage of the `map()` function in Python.\n",
        "\n",
        "-    The map() function in Python serves to apply a specified function to every item within an iterable (such as a list, tuple, or set), and returns an iterator that yields the results. It offers a concise way to perform element-wise operations without explicit loops.\n",
        "\n",
        "map(function, iterable, ...)\n",
        "\n",
        "10.  What is the difference between `map()`, `reduce()`, and `filter()`     functions in Python?\n",
        "\n",
        "- map(), filter(), and reduce() are built-in higher-order functions in Python that operate on iterables (like lists, tuples, etc.) but serve distinct purposes:\n",
        "map():\n",
        "Applies a given function to each item in an iterable and returns an iterator that yields the results. It transforms each element individually.\n",
        "filter():\n",
        "Creates a new iterator containing only the items from an iterable for which a given function returns True. It selectively keeps elements based on a condition.\n",
        "reduce():\n",
        "Applies a function cumulatively to the items of an iterable, from left to right, so as to reduce the iterable to a single value. It aggregates values into one result.\n",
        "\n",
        "from functools import reduce # Import reduce\n",
        "\n",
        "numbers = [1, 2, 3, 4, 5]\n",
        "\n",
        "# map(): squares each number\n",
        "squared_numbers = map(lambda x: x**2, numbers)\n",
        "print(list(squared_numbers)) # Output: [1, 4, 9, 16, 25]\n",
        "\n",
        "# filter(): keeps only even numbers\n",
        "even_numbers = filter(lambda x: x % 2 == 0, numbers)\n",
        "print(list(even_numbers)) # Output: [2, 4]\n",
        "\n",
        "# reduce(): calculates the product of all numbers\n",
        "product = reduce(lambda x, y: x * y, numbers)\n",
        "print(product) # Output: 120\n",
        "\n",
        "11. Using pen & Paper write the internal mechanism for sum operation using  reduce function on this given\n",
        "list:[47,11,42,13];\n",
        "-\n",
        "from functools import reduce\n",
        "\n",
        "# Function to add two numbers\n",
        "def add(x, y):\n",
        "    return x + y\n",
        "\n",
        "a = [1, 2, 3, 4, 5]\n",
        "res = reduce(add, a)\n",
        "\n",
        "print(res)  # Output: 15\n"
      ],
      "metadata": {
        "id": "LK-WeWuPk6cc"
      }
    },
    {
      "cell_type": "markdown",
      "source": [
        "**Practicle Question**"
      ],
      "metadata": {
        "id": "MG6LMb9emjnf"
      }
    },
    {
      "cell_type": "markdown",
      "source": [
        "1. Write a Python function that takes a list of numbers as input and returns the sum of all even numbers in\n",
        "the list."
      ],
      "metadata": {
        "id": "u7RQtqn6muE1"
      }
    },
    {
      "cell_type": "markdown",
      "source": [],
      "metadata": {
        "id": "3MVlYVxHep53"
      }
    },
    {
      "cell_type": "code",
      "source": [
        "def sum_even_numbers(numbers):\n",
        "    \"\"\"\n",
        "    Calculates the sum of all even numbers in a list.\n",
        "\n",
        "    Args:\n",
        "      numbers: A list of numbers.\n",
        "\n",
        "    Returns:\n",
        "      The sum of even numbers in the list.\n",
        "    \"\"\"\n",
        "    even_sum = 0\n",
        "    for number in numbers:\n",
        "        if number % 2 == 0:\n",
        "            even_sum += number\n",
        "    return even_sum"
      ],
      "metadata": {
        "id": "psVb-pkInb41"
      },
      "execution_count": 2,
      "outputs": []
    },
    {
      "cell_type": "markdown",
      "source": [
        "2. Create a Python function that accepts a string and returns the reverse of that string"
      ],
      "metadata": {
        "id": "BqWCV4Bynowf"
      }
    },
    {
      "cell_type": "code",
      "source": [
        "def reverse_string(s):\n",
        "    return s[::-1]"
      ],
      "metadata": {
        "id": "7mvK1PKCneyr"
      },
      "execution_count": 3,
      "outputs": []
    },
    {
      "cell_type": "markdown",
      "source": [
        "3.  Implement a Python function that takes a list of integers and returns a new list containing the squares of\n",
        "each number."
      ],
      "metadata": {
        "id": "oeS0n16Kn6XA"
      }
    },
    {
      "cell_type": "code",
      "source": [
        "def square_list(numbers):\n",
        "    \"\"\"\n",
        "    Returns a new list containing the squares of each number in the input list.\n",
        "\n",
        "    Args:\n",
        "        numbers: A list of integers.\n",
        "\n",
        "    Returns:\n",
        "        A new list with the squares of the input numbers.\n",
        "    \"\"\"\n",
        "    squared_numbers = []\n",
        "    for number in numbers:\n",
        "        squared_numbers.append(number**2)\n",
        "    return squared_numbers"
      ],
      "metadata": {
        "id": "HivB9K2Vn01h"
      },
      "execution_count": 4,
      "outputs": []
    },
    {
      "cell_type": "markdown",
      "source": [
        "4. Write a Python function that checks if a given number is prime or not from 1 to 200"
      ],
      "metadata": {
        "id": "eNkhf3bBqSNM"
      }
    },
    {
      "cell_type": "code",
      "source": [
        "def is_prime(num):\n",
        "    \"\"\"\n",
        "    Checks if a number is prime.\n",
        "\n",
        "    A prime number is a natural number greater than 1 that has no positive divisors other than 1 and itself.\n",
        "\n",
        "    Args:\n",
        "        num: An integer to be checked for primality.\n",
        "\n",
        "    Returns:\n",
        "        True if num is prime, False otherwise.\n",
        "    \"\"\"\n",
        "    if num <= 1:\n",
        "        return False\n",
        "    if num <= 3:\n",
        "        return True\n",
        "    if num % 2 == 0 or num % 3 == 0:\n",
        "        return False\n",
        "    i = 5\n",
        "    while i * i <= num:\n",
        "        if num % i == 0 or num % (i + 2) == 0:\n",
        "            return False\n",
        "        i += 6\n",
        "    return True\n",
        "\n",
        "def check_prime_range(limit):\n",
        "  \"\"\"\n",
        "  Prints prime numbers from 1 to a specified limit.\n",
        "\n",
        "  Args:\n",
        "      limit: An integer representing the upper limit of the range.\n",
        "  \"\"\"\n",
        "  for num in range(1, limit + 1):\n",
        "      if is_prime(num):\n",
        "          print(f\"{num} is prime\")\n",
        "      else:\n",
        "          print(f\"{num} is not prime\")\n",
        "\n",
        "check_prime_range(200)"
      ],
      "metadata": {
        "colab": {
          "base_uri": "https://localhost:8080/",
          "height": 0
        },
        "id": "XKMG6FANqI-j",
        "outputId": "92c47a5e-f5f4-40a5-8b0e-42482e791e9d"
      },
      "execution_count": 5,
      "outputs": [
        {
          "output_type": "stream",
          "name": "stdout",
          "text": [
            "1 is not prime\n",
            "2 is prime\n",
            "3 is prime\n",
            "4 is not prime\n",
            "5 is prime\n",
            "6 is not prime\n",
            "7 is prime\n",
            "8 is not prime\n",
            "9 is not prime\n",
            "10 is not prime\n",
            "11 is prime\n",
            "12 is not prime\n",
            "13 is prime\n",
            "14 is not prime\n",
            "15 is not prime\n",
            "16 is not prime\n",
            "17 is prime\n",
            "18 is not prime\n",
            "19 is prime\n",
            "20 is not prime\n",
            "21 is not prime\n",
            "22 is not prime\n",
            "23 is prime\n",
            "24 is not prime\n",
            "25 is not prime\n",
            "26 is not prime\n",
            "27 is not prime\n",
            "28 is not prime\n",
            "29 is prime\n",
            "30 is not prime\n",
            "31 is prime\n",
            "32 is not prime\n",
            "33 is not prime\n",
            "34 is not prime\n",
            "35 is not prime\n",
            "36 is not prime\n",
            "37 is prime\n",
            "38 is not prime\n",
            "39 is not prime\n",
            "40 is not prime\n",
            "41 is prime\n",
            "42 is not prime\n",
            "43 is prime\n",
            "44 is not prime\n",
            "45 is not prime\n",
            "46 is not prime\n",
            "47 is prime\n",
            "48 is not prime\n",
            "49 is not prime\n",
            "50 is not prime\n",
            "51 is not prime\n",
            "52 is not prime\n",
            "53 is prime\n",
            "54 is not prime\n",
            "55 is not prime\n",
            "56 is not prime\n",
            "57 is not prime\n",
            "58 is not prime\n",
            "59 is prime\n",
            "60 is not prime\n",
            "61 is prime\n",
            "62 is not prime\n",
            "63 is not prime\n",
            "64 is not prime\n",
            "65 is not prime\n",
            "66 is not prime\n",
            "67 is prime\n",
            "68 is not prime\n",
            "69 is not prime\n",
            "70 is not prime\n",
            "71 is prime\n",
            "72 is not prime\n",
            "73 is prime\n",
            "74 is not prime\n",
            "75 is not prime\n",
            "76 is not prime\n",
            "77 is not prime\n",
            "78 is not prime\n",
            "79 is prime\n",
            "80 is not prime\n",
            "81 is not prime\n",
            "82 is not prime\n",
            "83 is prime\n",
            "84 is not prime\n",
            "85 is not prime\n",
            "86 is not prime\n",
            "87 is not prime\n",
            "88 is not prime\n",
            "89 is prime\n",
            "90 is not prime\n",
            "91 is not prime\n",
            "92 is not prime\n",
            "93 is not prime\n",
            "94 is not prime\n",
            "95 is not prime\n",
            "96 is not prime\n",
            "97 is prime\n",
            "98 is not prime\n",
            "99 is not prime\n",
            "100 is not prime\n",
            "101 is prime\n",
            "102 is not prime\n",
            "103 is prime\n",
            "104 is not prime\n",
            "105 is not prime\n",
            "106 is not prime\n",
            "107 is prime\n",
            "108 is not prime\n",
            "109 is prime\n",
            "110 is not prime\n",
            "111 is not prime\n",
            "112 is not prime\n",
            "113 is prime\n",
            "114 is not prime\n",
            "115 is not prime\n",
            "116 is not prime\n",
            "117 is not prime\n",
            "118 is not prime\n",
            "119 is not prime\n",
            "120 is not prime\n",
            "121 is not prime\n",
            "122 is not prime\n",
            "123 is not prime\n",
            "124 is not prime\n",
            "125 is not prime\n",
            "126 is not prime\n",
            "127 is prime\n",
            "128 is not prime\n",
            "129 is not prime\n",
            "130 is not prime\n",
            "131 is prime\n",
            "132 is not prime\n",
            "133 is not prime\n",
            "134 is not prime\n",
            "135 is not prime\n",
            "136 is not prime\n",
            "137 is prime\n",
            "138 is not prime\n",
            "139 is prime\n",
            "140 is not prime\n",
            "141 is not prime\n",
            "142 is not prime\n",
            "143 is not prime\n",
            "144 is not prime\n",
            "145 is not prime\n",
            "146 is not prime\n",
            "147 is not prime\n",
            "148 is not prime\n",
            "149 is prime\n",
            "150 is not prime\n",
            "151 is prime\n",
            "152 is not prime\n",
            "153 is not prime\n",
            "154 is not prime\n",
            "155 is not prime\n",
            "156 is not prime\n",
            "157 is prime\n",
            "158 is not prime\n",
            "159 is not prime\n",
            "160 is not prime\n",
            "161 is not prime\n",
            "162 is not prime\n",
            "163 is prime\n",
            "164 is not prime\n",
            "165 is not prime\n",
            "166 is not prime\n",
            "167 is prime\n",
            "168 is not prime\n",
            "169 is not prime\n",
            "170 is not prime\n",
            "171 is not prime\n",
            "172 is not prime\n",
            "173 is prime\n",
            "174 is not prime\n",
            "175 is not prime\n",
            "176 is not prime\n",
            "177 is not prime\n",
            "178 is not prime\n",
            "179 is prime\n",
            "180 is not prime\n",
            "181 is prime\n",
            "182 is not prime\n",
            "183 is not prime\n",
            "184 is not prime\n",
            "185 is not prime\n",
            "186 is not prime\n",
            "187 is not prime\n",
            "188 is not prime\n",
            "189 is not prime\n",
            "190 is not prime\n",
            "191 is prime\n",
            "192 is not prime\n",
            "193 is prime\n",
            "194 is not prime\n",
            "195 is not prime\n",
            "196 is not prime\n",
            "197 is prime\n",
            "198 is not prime\n",
            "199 is prime\n",
            "200 is not prime\n"
          ]
        }
      ]
    },
    {
      "cell_type": "markdown",
      "source": [
        "5. Create an iterator class in Python that generates the Fibonacci sequence up to a specified number of\n",
        "terms."
      ],
      "metadata": {
        "id": "mV0QJrdQqmZ_"
      }
    },
    {
      "cell_type": "code",
      "source": [
        "class FibonacciIterator:\n",
        "    def __init__(self, limit):\n",
        "        self.limit = limit\n",
        "        self.current = 0\n",
        "        self.next_num = 1\n",
        "        self.count = 0\n",
        "\n",
        "    def __iter__(self):\n",
        "        return self\n",
        "\n",
        "    def __next__(self):\n",
        "        if self.count < self.limit:\n",
        "            result = self.current\n",
        "            self.current, self.next_num = self.next_num, self.current + self.next_num\n",
        "            self.count += 1\n",
        "            return result\n",
        "        else:\n",
        "            raise StopIteration\n",
        "\n",
        "# Example usage:\n",
        "fib_iter = FibonacciIterator(10)\n",
        "for num in fib_iter:\n",
        "    print(num)\n",
        ""
      ],
      "metadata": {
        "colab": {
          "base_uri": "https://localhost:8080/",
          "height": 0
        },
        "id": "NuTVCWc3qgNP",
        "outputId": "9adb9748-9ea1-49e9-9588-9df57b776490"
      },
      "execution_count": 6,
      "outputs": [
        {
          "output_type": "stream",
          "name": "stdout",
          "text": [
            "0\n",
            "1\n",
            "1\n",
            "2\n",
            "3\n",
            "5\n",
            "8\n",
            "13\n",
            "21\n",
            "34\n"
          ]
        }
      ]
    },
    {
      "cell_type": "markdown",
      "source": [
        "6. Write a generator function in Python that yields the powers of 2 up to a given exponent.def powers_of_two(exponent):\n",
        "    \"\"\"\n",
        "    Generates powers of 2 up to a given exponent.\n",
        "\n",
        "    Args:\n",
        "        exponent: The maximum exponent.\n",
        "\n",
        "    Yields:\n",
        "        Successive powers of 2.\n",
        "    \"\"\"\n",
        "    for i in range(exponent + 1):\n",
        "        yield 2 ** i"
      ],
      "metadata": {
        "id": "2jEv2FhQq2l_"
      }
    },
    {
      "cell_type": "markdown",
      "source": [
        "7. Implement a generator function that reads a file line by line and yields each line as a string."
      ],
      "metadata": {
        "id": "uCIniaNBrL1O"
      }
    },
    {
      "cell_type": "code",
      "source": [
        "def read_file_lines(filepath):\n",
        "    \"\"\"\n",
        "    Reads a file line by line and yields each line.\n",
        "\n",
        "    Args:\n",
        "        filepath (str): The path to the file.\n",
        "\n",
        "    Yields:\n",
        "        str: Each line of the file.\n",
        "    \"\"\"\n",
        "    try:\n",
        "        with open(filepath, 'r') as file:\n",
        "            for line in file:\n",
        "                yield line.rstrip('\\n')\n",
        "    except FileNotFoundError:\n",
        "        yield \"File not found.\"\n",
        "\n",
        "# Example usage:\n",
        "filepath = 'my_file.txt'\n",
        "\n",
        "# Create a dummy text file for demonstration\n",
        "with open(filepath, 'w') as f:\n",
        "    f.write(\"This is the first line.\\n\")\n",
        "    f.write(\"This is the second line.\\n\")\n",
        "    f.write(\"This is the third line.\\n\")\n",
        "\n",
        "for line in read_file_lines(filepath):\n",
        "    print(line)"
      ],
      "metadata": {
        "colab": {
          "base_uri": "https://localhost:8080/",
          "height": 0
        },
        "id": "IP-U9O1aq1O0",
        "outputId": "f50cf0eb-b5c8-437b-e00e-d6c5237e7bf7"
      },
      "execution_count": 7,
      "outputs": [
        {
          "output_type": "stream",
          "name": "stdout",
          "text": [
            "This is the first line.\n",
            "This is the second line.\n",
            "This is the third line.\n"
          ]
        }
      ]
    },
    {
      "cell_type": "markdown",
      "source": [
        "8. Use a lambda function in Python to sort a list of tuples based on the second --element of each tuple.\n"
      ],
      "metadata": {
        "id": "3u1MRrRtrgEe"
      }
    },
    {
      "cell_type": "markdown",
      "source": [],
      "metadata": {
        "id": "pzrEMFeKrxp1"
      }
    },
    {
      "cell_type": "code",
      "source": [
        "list_of_tuples = [(1, 'z'), (2, 'a'), (3, 'b')]\n",
        "\n",
        "sorted_list = sorted(list_of_tuples, key=lambda x: x[1])\n",
        "\n",
        "print(sorted_list)\n",
        "# Expected Output: [(2, 'a'), (3, 'b'), (1, 'z')]"
      ],
      "metadata": {
        "colab": {
          "base_uri": "https://localhost:8080/",
          "height": 0
        },
        "id": "53TSQ5jorbeY",
        "outputId": "252dd551-907e-4653-c41e-1b7ad75e2b05"
      },
      "execution_count": 8,
      "outputs": [
        {
          "output_type": "stream",
          "name": "stdout",
          "text": [
            "[(2, 'a'), (3, 'b'), (1, 'z')]\n"
          ]
        }
      ]
    },
    {
      "cell_type": "markdown",
      "source": [
        "9.  Write a Python program that uses `map()` to convert a list of temperatures from Celsius to Fahrenheit."
      ],
      "metadata": {
        "id": "C6jUcp_6sKs_"
      }
    },
    {
      "cell_type": "code",
      "source": [
        "c = 47\n",
        "\n",
        "# Converting the temperature to Fahrenheit using the formula\n",
        "f = (c * 1.8) + 32\n",
        "\n",
        "print(str(c))\n",
        "print(str(f))"
      ],
      "metadata": {
        "colab": {
          "base_uri": "https://localhost:8080/",
          "height": 0
        },
        "id": "RK1hxRiisFQF",
        "outputId": "ab39bb05-6d88-4ef2-d98e-e69876a73b9a"
      },
      "execution_count": 9,
      "outputs": [
        {
          "output_type": "stream",
          "name": "stdout",
          "text": [
            "47\n",
            "116.60000000000001\n"
          ]
        }
      ]
    },
    {
      "cell_type": "markdown",
      "source": [
        "10. Create a Python program that uses `filter()` to remove all the vowels from a given string.\n",
        "\n",
        "\n"
      ],
      "metadata": {
        "id": "FyqkZpDQsn5b"
      }
    },
    {
      "cell_type": "code",
      "source": [
        "# Python program to remove vowels from a string\n",
        "# Function to remove vowels\n",
        "def rem_vowel(string):\n",
        "    vowels = ['a','e','i','o','u']\n",
        "    result = [letter for letter in string if letter.lower() not in vowels]\n",
        "    result = ''.join(result)\n",
        "    print(result)\n",
        "\n",
        "# Driver program\n",
        "string = \"out of subject - A Computer Science is the out of subject\"\n",
        "rem_vowel(string)\n",
        "string = \"Loving Python LOL\"\n",
        "rem_vowel(string)\n"
      ],
      "metadata": {
        "colab": {
          "base_uri": "https://localhost:8080/",
          "height": 0
        },
        "id": "FGT43yFQsiB-",
        "outputId": "cb10811e-414f-4b7a-a04a-606582062e1c"
      },
      "execution_count": 13,
      "outputs": [
        {
          "output_type": "stream",
          "name": "stdout",
          "text": [
            "t f sbjct -  Cmptr Scnc s th t f sbjct\n",
            "Lvng Pythn LL\n"
          ]
        }
      ]
    },
    {
      "cell_type": "markdown",
      "source": [
        "11. Imagine an accounting routine used in a book shop. It works on a list with sublists, which look like this:\n",
        "\n",
        "Order number  book title and author                Quantity   Price Per Item\n",
        "34587         Learning Python Mark Lutz             4          40.95\n",
        "98762         Programming python Mark Lutz          5          56.80\n",
        "77226         Head First Python Paul Berry          3          32.95\n",
        "88112         Einfuhrung in Python3, Bernd Klein    3          24.99\n",
        "\n",
        "Write a Python program, which returns a list with 2-tuples. Each tuple consists of the order number and the\n",
        "product of the price per item and the quantity. The product should be increased by 10,- € if the value of the\n",
        "order is smaller than 100,00 €.\n",
        "\n",
        "Write a Python program using lambda and map."
      ],
      "metadata": {
        "id": "4oMoNN02u0QL"
      }
    },
    {
      "cell_type": "code",
      "source": [
        "book_shop_data = [\n",
        "    [34587, \"Learning Python Mark Lutz\", 4, 40.95],\n",
        "    [98762, \"Programming python Mark Lutz\", 5, 56.80],\n",
        "    [77226, \"Head First Python Paul Berry\", 3, 32.95],\n",
        "    [88112, \"Einfuhrung in Python3, Bernd Klein\", 3, 24.99]\n",
        "]\n",
        "\n",
        "# Define a lambda function to calculate the total cost and adjust for small orders\n",
        "calculate_total = lambda order: (\n",
        "    order[0],  # Order number\n",
        "    (order[2] * order[3]) + (10 if (order[2] * order[3]) < 100 else 0)\n",
        ")\n",
        "\n",
        "# Use map to apply the lambda function to each order\n",
        "result = list(map(calculate_total, book_shop_data))\n",
        "\n",
        "# Print the result\n",
        "print(result)"
      ],
      "metadata": {
        "colab": {
          "base_uri": "https://localhost:8080/",
          "height": 0
        },
        "id": "V18hSAzruNpn",
        "outputId": "6e8909ca-f3b0-411d-b957-bac747d70169"
      },
      "execution_count": 14,
      "outputs": [
        {
          "output_type": "stream",
          "name": "stdout",
          "text": [
            "[(34587, 163.8), (98762, 284.0), (77226, 108.85000000000001), (88112, 84.97)]\n"
          ]
        }
      ]
    },
    {
      "cell_type": "code",
      "source": [],
      "metadata": {
        "id": "vVNYarN1xJFU"
      },
      "execution_count": null,
      "outputs": []
    }
  ]
}